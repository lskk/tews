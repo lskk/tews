{
 "cells": [
  {
   "cell_type": "markdown",
   "metadata": {},
   "source": [
    "# Tsunami Potential Prediction with Artificial Neural Networks\n",
    "\n",
    "Model and algorithm by Astri Novianty."
   ]
  },
  {
   "cell_type": "markdown",
   "metadata": {},
   "source": [
    "The final proposed backpropagation ANN architecture with 2 hidden-neurons:\n",
    "\n",
    "![ANN](ann-architecture.png)"
   ]
  },
  {
   "cell_type": "code",
   "execution_count": 1,
   "metadata": {},
   "outputs": [],
   "source": [
    "import torch"
   ]
  },
  {
   "cell_type": "markdown",
   "metadata": {},
   "source": [
    "Raw inputs:\n",
    "\n",
    "* `in_bias: float` = 1\n",
    "* `t0: float`: Unnormalized rupture duration variable ($T_0$)\n",
    "* `td: float`: Unnormalized P-wave dominant period variable ($T_d$)\n",
    "* `t0xtd: float`: Unnormalized product of rupture duration and P-wave dominant period ($T_0 \\times T_d$)\n",
    "* `mw: float`: Unnormalized moment magnitude ($M_w$)"
   ]
  },
  {
   "cell_type": "code",
   "execution_count": 2,
   "metadata": {},
   "outputs": [],
   "source": [
    "# Case study: M 7.8 - Southwest of Sumatra, Indonesia - 2016-03-02T12:49:48.000Z\n",
    "# Label\n",
    "in_name = 'M 7.8 - Southwest of Sumatra, Indonesia - 2016-03-02T12:49:48.000Z'\n",
    "# Raw inputs\n",
    "in_bias: float = 1\n",
    "# Unnormalized rupture duration variable\n",
    "t0: float = 76.21047386\n",
    "# Unnormalized P-wave dominant period variable\n",
    "td: float = 3.484952633\n",
    "# Unnormalized product of rupture duration and P-wave dominant period (T_0 \\times T_d)\n",
    "t0xtd: float = t0 * td\n",
    "# Unnormalized moment magnitude (M_w)\n",
    "mw: float = 7.4894408801871"
   ]
  },
  {
   "cell_type": "code",
   "execution_count": 51,
   "metadata": {},
   "outputs": [
    {
     "data": {
      "text/plain": [
       "(tensor([ 0.0000,  9.4500,  2.7000, 42.5464,  6.9879]),\n",
       " tensor([  1.0000, 203.8708,   7.5000, 877.4648,   8.9957]))"
      ]
     },
     "execution_count": 51,
     "metadata": {},
     "output_type": "execute_result"
    }
   ],
   "source": [
    "# Normalization vectors\n",
    "ri_min = torch.tensor([0, 9.45, 2.7, 42.54644, 6.987921])\n",
    "ri_max = torch.tensor([1, 203.8708, 7.5, 877.4648, 8.995652])\n",
    "ri_min, ri_max"
   ]
  },
  {
   "cell_type": "code",
   "execution_count": 52,
   "metadata": {},
   "outputs": [
    {
     "data": {
      "text/plain": [
       "tensor([1.0000, 0.3434, 0.1635, 0.2671, 0.2498])"
      ]
     },
     "execution_count": 52,
     "metadata": {},
     "output_type": "execute_result"
    }
   ],
   "source": [
    "t0_norm = (t0 - ri_min[1]) / (ri_max[1] - ri_min[1])\n",
    "td_norm = (td - ri_min[2]) / (ri_max[2] - ri_min[2])\n",
    "t0xtd_norm = (t0xtd - ri_min[3]) / (ri_max[3] - ri_min[3])\n",
    "mw_norm = (mw - ri_min[4]) / (ri_max[4] - ri_min[4])\n",
    "x = torch.tensor([in_bias, t0_norm, td_norm, t0xtd_norm, mw_norm])\n",
    "x"
   ]
  },
  {
   "cell_type": "code",
   "execution_count": 53,
   "metadata": {},
   "outputs": [
    {
     "name": "stdout",
     "output_type": "stream",
     "text": [
      "Input state:  OrderedDict([('weight', tensor([[   1.0000,    0.0000,    0.0000,    0.0000,    0.0000],\n",
      "        [ 132.7067,  -70.9812, -130.8316,  -20.9188, -101.2728]]))])\n",
      "Hidden1 state:  OrderedDict([('weight', tensor([[ 1.8625, -1.8625],\n",
      "        [-4.1991,  4.1991]]))])\n"
     ]
    }
   ],
   "source": [
    "import torch.nn as nn\n",
    "import torch.nn.functional as F\n",
    "\n",
    "n_in = 5\n",
    "n_hidden = 2\n",
    "n_out = 2\n",
    "\n",
    "# class NoviantyModel(nn.Module):\n",
    "#     def __init__(self):\n",
    "#         super(Model, self).__init__()\n",
    "#         self.hidden1 = nn.Linear(n_hidden)\n",
    "#         self.out = nn.Linear(n_hidden, n_out)\n",
    "        \n",
    "#     def forward(self, x):\n",
    "#         F.sigmoid(self.hidden1(x))\n",
    "\n",
    "# def init_weights(m: nn.Module):\n",
    "#     if type(m) == nn.Linear:\n",
    "#         print(m.weight)\n",
    "#     print(m)\n",
    "\n",
    "in_layer = torch.nn.Linear(n_in, n_hidden, bias=False)\n",
    "hidden1_layer = torch.nn.Linear(n_hidden, n_out, bias=False)\n",
    "model = torch.nn.Sequential(in_layer,\n",
    "                            torch.nn.Sigmoid(),\n",
    "                            hidden1_layer,\n",
    "                            torch.nn.Sigmoid())\n",
    "\n",
    "in_layer_pretrained = {\n",
    "    'weight': torch.tensor([\n",
    "        [1.0, 0.0, 0.0, 0.0, 0.0],\n",
    "        [132.70666017759126, -70.98121913774737, -130.83160560195375, -\n",
    "20.91881955841453, -101.27274912451277]\n",
    "    ])}\n",
    "hidden1_layer_pretrained = {\n",
    "    'weight': torch.tensor([\n",
    "        [1.862494811604578, -1.862494811604578],\n",
    "        [-4.199132605391263, 4.199132605391263]\n",
    "    ])}\n",
    "in_layer.load_state_dict(in_layer_pretrained)\n",
    "hidden1_layer.load_state_dict(hidden1_layer_pretrained)\n",
    "print('Input state: ', in_layer.state_dict())\n",
    "print('Hidden1 state: ', hidden1_layer.state_dict())\n",
    "#init_weights(list(model.children())[0])"
   ]
  },
  {
   "cell_type": "code",
   "execution_count": 64,
   "metadata": {},
   "outputs": [
    {
     "name": "stdout",
     "output_type": "stream",
     "text": [
      "For event M 7.8 - Southwest of Sumatra, Indonesia - 2016-03-02T12:49:48.000Z\n",
      "Tsunami potential output neurons: Yes=0.3773287236690521 No=0.7557135224342346\n",
      "Tsunami potential: Yes=False No=True\n"
     ]
    }
   ],
   "source": [
    "y = model.forward(x)\n",
    "#print(y)\n",
    "print('For event %s' % in_name)\n",
    "print('Tsunami potential output neurons: Yes=%s No=%s' % (float(y[0]), float(y[1])))\n",
    "print('Tsunami potential: Yes=%s No=%s' % (float(y[0]) >= 0.5, float(y[1]) >= 0.5))\n"
   ]
  },
  {
   "cell_type": "code",
   "execution_count": 66,
   "metadata": {},
   "outputs": [],
   "source": [
    "torch.save(model, 'novianty2018.pt')"
   ]
  },
  {
   "cell_type": "code",
   "execution_count": 65,
   "metadata": {},
   "outputs": [
    {
     "name": "stdout",
     "output_type": "stream",
     "text": [
      "graph(%Bias, T0, Td, T0×Td, Mw : Float(5)\n",
      "      %1 : Float(2, 5)\n",
      "      %2 : Float(2, 2)) {\n",
      "  %3 : Float(5!, 2!) = onnx::Transpose[perm=[1, 0]](%1), scope: Sequential/Linear[0]\n",
      "  %4 : Float(2) = onnx::MatMul(%Bias, T0, Td, T0×Td, Mw, %3), scope: Sequential/Linear[0]\n",
      "  %5 : Float(2) = onnx::Sigmoid(%4), scope: Sequential/Sigmoid[1]\n",
      "  %6 : Float(2!, 2!) = onnx::Transpose[perm=[1, 0]](%2), scope: Sequential/Linear[2]\n",
      "  %7 : Float(2) = onnx::MatMul(%5, %6), scope: Sequential/Linear[2]\n",
      "  %y0=Tsunami-Yes, y1=Tsunami-No : Float(2) = onnx::Sigmoid(%7), scope: Sequential/Sigmoid[3]\n",
      "  return (%y0=Tsunami-Yes, y1=Tsunami-No);\n",
      "}\n",
      "\n"
     ]
    }
   ],
   "source": [
    "import torch.onnx\n",
    "from torch.autograd import Variable\n",
    "\n",
    "torch.onnx.export(model, Variable(x), 'novianty2018.onnx', verbose=True,\n",
    "                  input_names = ['Bias, T0, Td, T0×Td, Mw'],\n",
    "#                   input_names = [\n",
    "#                      'Bias = 1',\n",
    "#                      'Unnormalized rupture duration variable',\n",
    "#                      'Unnormalized P-wave dominant period variable',\n",
    "#                      'Unnormalized product of rupture duration and P-wave dominant period (T0×Td)',\n",
    "#                      'Unnormalized moment magnitude (Mw)'],\n",
    "                  output_names = ['y0=Tsunami-Yes, y1=Tsunami-No'])\n"
   ]
  },
  {
   "cell_type": "code",
   "execution_count": null,
   "metadata": {},
   "outputs": [],
   "source": []
  }
 ],
 "metadata": {
  "kernelspec": {
   "display_name": "Python 3",
   "language": "python",
   "name": "python3"
  },
  "language_info": {
   "codemirror_mode": {
    "name": "ipython",
    "version": 3
   },
   "file_extension": ".py",
   "mimetype": "text/x-python",
   "name": "python",
   "nbconvert_exporter": "python",
   "pygments_lexer": "ipython3",
   "version": "3.6.6"
  }
 },
 "nbformat": 4,
 "nbformat_minor": 2
}
