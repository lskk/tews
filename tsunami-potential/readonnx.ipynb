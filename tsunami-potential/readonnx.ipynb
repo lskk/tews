{
 "cells": [
  {
   "cell_type": "code",
   "execution_count": null,
   "metadata": {},
   "outputs": [],
   "source": [
    "!conda install -c conda-forge onnx"
   ]
  },
  {
   "cell_type": "code",
   "execution_count": 9,
   "metadata": {},
   "outputs": [
    {
     "ename": "TypeError",
     "evalue": "__init__() got an unexpected keyword argument 'serialized_options'",
     "output_type": "error",
     "traceback": [
      "\u001b[1;31m---------------------------------------------------------------------------\u001b[0m",
      "\u001b[1;31mTypeError\u001b[0m                                 Traceback (most recent call last)",
      "\u001b[1;32m<ipython-input-9-fc177c92ff00>\u001b[0m in \u001b[0;36m<module>\u001b[1;34m()\u001b[0m\n\u001b[0;32m      1\u001b[0m \u001b[1;32mimport\u001b[0m \u001b[0mtorch\u001b[0m\u001b[1;33m\u001b[0m\u001b[0m\n\u001b[1;32m----> 2\u001b[1;33m \u001b[1;32mimport\u001b[0m \u001b[0monnx\u001b[0m\u001b[1;33m\u001b[0m\u001b[0m\n\u001b[0m\u001b[0;32m      3\u001b[0m \u001b[1;33m\u001b[0m\u001b[0m\n\u001b[0;32m      4\u001b[0m \u001b[0mmodel\u001b[0m \u001b[1;33m=\u001b[0m \u001b[0monnx\u001b[0m\u001b[1;33m.\u001b[0m\u001b[0mload\u001b[0m\u001b[1;33m(\u001b[0m\u001b[1;34m'novianty2018.onnx'\u001b[0m\u001b[1;33m)\u001b[0m\u001b[1;33m\u001b[0m\u001b[0m\n\u001b[0;32m      5\u001b[0m \u001b[0mmodel\u001b[0m\u001b[1;33m\u001b[0m\u001b[0m\n",
      "\u001b[1;32mC:\\ProgramData\\Anaconda3\\lib\\site-packages\\onnx\\__init__.py\u001b[0m in \u001b[0;36m<module>\u001b[1;34m()\u001b[0m\n\u001b[0;32m      4\u001b[0m \u001b[1;32mfrom\u001b[0m \u001b[0m__future__\u001b[0m \u001b[1;32mimport\u001b[0m \u001b[0municode_literals\u001b[0m\u001b[1;33m\u001b[0m\u001b[0m\n\u001b[0;32m      5\u001b[0m \u001b[1;33m\u001b[0m\u001b[0m\n\u001b[1;32m----> 6\u001b[1;33m \u001b[1;32mfrom\u001b[0m \u001b[1;33m.\u001b[0m\u001b[0monnx_pb\u001b[0m \u001b[1;32mimport\u001b[0m \u001b[1;33m*\u001b[0m  \u001b[1;31m# noqa\u001b[0m\u001b[1;33m\u001b[0m\u001b[0m\n\u001b[0m\u001b[0;32m      7\u001b[0m \u001b[1;32mfrom\u001b[0m \u001b[1;33m.\u001b[0m\u001b[0monnx_operators_pb\u001b[0m \u001b[1;32mimport\u001b[0m \u001b[1;33m*\u001b[0m \u001b[1;31m# noqa\u001b[0m\u001b[1;33m\u001b[0m\u001b[0m\n\u001b[0;32m      8\u001b[0m \u001b[1;32mfrom\u001b[0m \u001b[1;33m.\u001b[0m\u001b[0mversion\u001b[0m \u001b[1;32mimport\u001b[0m \u001b[0mversion\u001b[0m \u001b[1;32mas\u001b[0m \u001b[0m__version__\u001b[0m  \u001b[1;31m# noqa\u001b[0m\u001b[1;33m\u001b[0m\u001b[0m\n",
      "\u001b[1;32mC:\\ProgramData\\Anaconda3\\lib\\site-packages\\onnx\\onnx_pb.py\u001b[0m in \u001b[0;36m<module>\u001b[1;34m()\u001b[0m\n\u001b[0;32m      6\u001b[0m \u001b[1;32mfrom\u001b[0m \u001b[0m__future__\u001b[0m \u001b[1;32mimport\u001b[0m \u001b[0municode_literals\u001b[0m\u001b[1;33m\u001b[0m\u001b[0m\n\u001b[0;32m      7\u001b[0m \u001b[1;33m\u001b[0m\u001b[0m\n\u001b[1;32m----> 8\u001b[1;33m \u001b[1;32mfrom\u001b[0m \u001b[1;33m.\u001b[0m\u001b[0monnx_ml_pb2\u001b[0m \u001b[1;32mimport\u001b[0m \u001b[1;33m*\u001b[0m  \u001b[1;31m# noqa\u001b[0m\u001b[1;33m\u001b[0m\u001b[0m\n\u001b[0m",
      "\u001b[1;32mC:\\ProgramData\\Anaconda3\\lib\\site-packages\\onnx\\onnx_ml_pb2.py\u001b[0m in \u001b[0;36m<module>\u001b[1;34m()\u001b[0m\n\u001b[0;32m     21\u001b[0m   \u001b[0msyntax\u001b[0m\u001b[1;33m=\u001b[0m\u001b[1;34m'proto2'\u001b[0m\u001b[1;33m,\u001b[0m\u001b[1;33m\u001b[0m\u001b[0m\n\u001b[0;32m     22\u001b[0m   \u001b[0mserialized_options\u001b[0m\u001b[1;33m=\u001b[0m\u001b[1;32mNone\u001b[0m\u001b[1;33m,\u001b[0m\u001b[1;33m\u001b[0m\u001b[0m\n\u001b[1;32m---> 23\u001b[1;33m   \u001b[0mserialized_pb\u001b[0m\u001b[1;33m=\u001b[0m\u001b[0m_b\u001b[0m\u001b[1;33m(\u001b[0m\u001b[1;34m'\\n\\x12onnx/onnx-ml.proto\\x12\\x04onnx\\\"\\xe0\\x03\\n\\x0e\\x41ttributeProto\\x12\\x0c\\n\\x04name\\x18\\x01 \\x01(\\t\\x12\\x15\\n\\rref_attr_name\\x18\\x15 \\x01(\\t\\x12\\x12\\n\\ndoc_string\\x18\\r \\x01(\\t\\x12\\x30\\n\\x04type\\x18\\x14 \\x01(\\x0e\\x32\\\".onnx.AttributeProto.AttributeType\\x12\\t\\n\\x01\\x66\\x18\\x02 \\x01(\\x02\\x12\\t\\n\\x01i\\x18\\x03 \\x01(\\x03\\x12\\t\\n\\x01s\\x18\\x04 \\x01(\\x0c\\x12\\x1c\\n\\x01t\\x18\\x05 \\x01(\\x0b\\x32\\x11.onnx.TensorProto\\x12\\x1b\\n\\x01g\\x18\\x06 \\x01(\\x0b\\x32\\x10.onnx.GraphProto\\x12\\x0e\\n\\x06\\x66loats\\x18\\x07 \\x03(\\x02\\x12\\x0c\\n\\x04ints\\x18\\x08 \\x03(\\x03\\x12\\x0f\\n\\x07strings\\x18\\t \\x03(\\x0c\\x12\\\"\\n\\x07tensors\\x18\\n \\x03(\\x0b\\x32\\x11.onnx.TensorProto\\x12 \\n\\x06graphs\\x18\\x0b \\x03(\\x0b\\x32\\x10.onnx.GraphProto\\\"\\x91\\x01\\n\\rAttributeType\\x12\\r\\n\\tUNDEFINED\\x10\\x00\\x12\\t\\n\\x05\\x46LOAT\\x10\\x01\\x12\\x07\\n\\x03INT\\x10\\x02\\x12\\n\\n\\x06STRING\\x10\\x03\\x12\\n\\n\\x06TENSOR\\x10\\x04\\x12\\t\\n\\x05GRAPH\\x10\\x05\\x12\\n\\n\\x06\\x46LOATS\\x10\\x06\\x12\\x08\\n\\x04INTS\\x10\\x07\\x12\\x0b\\n\\x07STRINGS\\x10\\x08\\x12\\x0b\\n\\x07TENSORS\\x10\\t\\x12\\n\\n\\x06GRAPHS\\x10\\n\\\"Q\\n\\x0eValueInfoProto\\x12\\x0c\\n\\x04name\\x18\\x01 \\x01(\\t\\x12\\x1d\\n\\x04type\\x18\\x02 \\x01(\\x0b\\x32\\x0f.onnx.TypeProto\\x12\\x12\\n\\ndoc_string\\x18\\x03 \\x01(\\t\\\"\\x96\\x01\\n\\tNodeProto\\x12\\r\\n\\x05input\\x18\\x01 \\x03(\\t\\x12\\x0e\\n\\x06output\\x18\\x02 \\x03(\\t\\x12\\x0c\\n\\x04name\\x18\\x03 \\x01(\\t\\x12\\x0f\\n\\x07op_type\\x18\\x04 \\x01(\\t\\x12\\x0e\\n\\x06\\x64omain\\x18\\x07 \\x01(\\t\\x12\\'\\n\\tattribute\\x18\\x05 \\x03(\\x0b\\x32\\x14.onnx.AttributeProto\\x12\\x12\\n\\ndoc_string\\x18\\x06 \\x01(\\t\\\"\\x93\\x02\\n\\nModelProto\\x12\\x12\\n\\nir_version\\x18\\x01 \\x01(\\x03\\x12.\\n\\x0copset_import\\x18\\x08 \\x03(\\x0b\\x32\\x18.onnx.OperatorSetIdProto\\x12\\x15\\n\\rproducer_name\\x18\\x02 \\x01(\\t\\x12\\x18\\n\\x10producer_version\\x18\\x03 \\x01(\\t\\x12\\x0e\\n\\x06\\x64omain\\x18\\x04 \\x01(\\t\\x12\\x15\\n\\rmodel_version\\x18\\x05 \\x01(\\x03\\x12\\x12\\n\\ndoc_string\\x18\\x06 \\x01(\\t\\x12\\x1f\\n\\x05graph\\x18\\x07 \\x01(\\x0b\\x32\\x10.onnx.GraphProto\\x12\\x34\\n\\x0emetadata_props\\x18\\x0e \\x03(\\x0b\\x32\\x1c.onnx.StringStringEntryProto\\\"4\\n\\x16StringStringEntryProto\\x12\\x0b\\n\\x03key\\x18\\x01 \\x01(\\t\\x12\\r\\n\\x05value\\x18\\x02 \\x01(\\t\\\"\\xea\\x01\\n\\nGraphProto\\x12\\x1d\\n\\x04node\\x18\\x01 \\x03(\\x0b\\x32\\x0f.onnx.NodeProto\\x12\\x0c\\n\\x04name\\x18\\x02 \\x01(\\t\\x12&\\n\\x0binitializer\\x18\\x05 \\x03(\\x0b\\x32\\x11.onnx.TensorProto\\x12\\x12\\n\\ndoc_string\\x18\\n \\x01(\\t\\x12#\\n\\x05input\\x18\\x0b \\x03(\\x0b\\x32\\x14.onnx.ValueInfoProto\\x12$\\n\\x06output\\x18\\x0c \\x03(\\x0b\\x32\\x14.onnx.ValueInfoProto\\x12(\\n\\nvalue_info\\x18\\r \\x03(\\x0b\\x32\\x14.onnx.ValueInfoProto\\\"\\xaf\\x04\\n\\x0bTensorProto\\x12\\x0c\\n\\x04\\x64ims\\x18\\x01 \\x03(\\x03\\x12-\\n\\tdata_type\\x18\\x02 \\x01(\\x0e\\x32\\x1a.onnx.TensorProto.DataType\\x12*\\n\\x07segment\\x18\\x03 \\x01(\\x0b\\x32\\x19.onnx.TensorProto.Segment\\x12\\x16\\n\\nfloat_data\\x18\\x04 \\x03(\\x02\\x42\\x02\\x10\\x01\\x12\\x16\\n\\nint32_data\\x18\\x05 \\x03(\\x05\\x42\\x02\\x10\\x01\\x12\\x13\\n\\x0bstring_data\\x18\\x06 \\x03(\\x0c\\x12\\x16\\n\\nint64_data\\x18\\x07 \\x03(\\x03\\x42\\x02\\x10\\x01\\x12\\x0c\\n\\x04name\\x18\\x08 \\x01(\\t\\x12\\x12\\n\\ndoc_string\\x18\\x0c \\x01(\\t\\x12\\x10\\n\\x08raw_data\\x18\\t \\x01(\\x0c\\x12\\x17\\n\\x0b\\x64ouble_data\\x18\\n \\x03(\\x01\\x42\\x02\\x10\\x01\\x12\\x17\\n\\x0buint64_data\\x18\\x0b \\x03(\\x04\\x42\\x02\\x10\\x01\\x1a%\\n\\x07Segment\\x12\\r\\n\\x05\\x62\\x65gin\\x18\\x01 \\x01(\\x03\\x12\\x0b\\n\\x03\\x65nd\\x18\\x02 \\x01(\\x03\\\"\\xcc\\x01\\n\\x08\\x44\\x61taType\\x12\\r\\n\\tUNDEFINED\\x10\\x00\\x12\\t\\n\\x05\\x46LOAT\\x10\\x01\\x12\\t\\n\\x05UINT8\\x10\\x02\\x12\\x08\\n\\x04INT8\\x10\\x03\\x12\\n\\n\\x06UINT16\\x10\\x04\\x12\\t\\n\\x05INT16\\x10\\x05\\x12\\t\\n\\x05INT32\\x10\\x06\\x12\\t\\n\\x05INT64\\x10\\x07\\x12\\n\\n\\x06STRING\\x10\\x08\\x12\\x08\\n\\x04\\x42OOL\\x10\\t\\x12\\x0b\\n\\x07\\x46LOAT16\\x10\\n\\x12\\n\\n\\x06\\x44OUBLE\\x10\\x0b\\x12\\n\\n\\x06UINT32\\x10\\x0c\\x12\\n\\n\\x06UINT64\\x10\\r\\x12\\r\\n\\tCOMPLEX64\\x10\\x0e\\x12\\x0e\\n\\nCOMPLEX128\\x10\\x0f\\\"\\x95\\x01\\n\\x10TensorShapeProto\\x12-\\n\\x03\\x64im\\x18\\x01 \\x03(\\x0b\\x32 .onnx.TensorShapeProto.Dimension\\x1aR\\n\\tDimension\\x12\\x13\\n\\tdim_value\\x18\\x01 \\x01(\\x03H\\x00\\x12\\x13\\n\\tdim_param\\x18\\x02 \\x01(\\tH\\x00\\x12\\x12\\n\\ndenotation\\x18\\x03 \\x01(\\tB\\x07\\n\\x05value\\\"\\x9d\\x03\\n\\tTypeProto\\x12-\\n\\x0btensor_type\\x18\\x01 \\x01(\\x0b\\x32\\x16.onnx.TypeProto.TensorH\\x00\\x12\\x31\\n\\rsequence_type\\x18\\x04 \\x01(\\x0b\\x32\\x18.onnx.TypeProto.SequenceH\\x00\\x12\\'\\n\\x08map_type\\x18\\x05 \\x01(\\x0b\\x32\\x13.onnx.TypeProto.MapH\\x00\\x12\\x12\\n\\ndenotation\\x18\\x06 \\x01(\\t\\x1a^\\n\\x06Tensor\\x12-\\n\\telem_type\\x18\\x01 \\x01(\\x0e\\x32\\x1a.onnx.TensorProto.DataType\\x12%\\n\\x05shape\\x18\\x02 \\x01(\\x0b\\x32\\x16.onnx.TensorShapeProto\\x1a.\\n\\x08Sequence\\x12\\\"\\n\\telem_type\\x18\\x01 \\x01(\\x0b\\x32\\x0f.onnx.TypeProto\\x1aX\\n\\x03Map\\x12,\\n\\x08key_type\\x18\\x01 \\x01(\\x0e\\x32\\x1a.onnx.TensorProto.DataType\\x12#\\n\\nvalue_type\\x18\\x02 \\x01(\\x0b\\x32\\x0f.onnx.TypeProtoB\\x07\\n\\x05value\\\"5\\n\\x12OperatorSetIdProto\\x12\\x0e\\n\\x06\\x64omain\\x18\\x01 \\x01(\\t\\x12\\x0f\\n\\x07version\\x18\\x02 \\x01(\\x03*c\\n\\x07Version\\x12\\x12\\n\\x0e_START_VERSION\\x10\\x00\\x12\\x19\\n\\x15IR_VERSION_2017_10_10\\x10\\x01\\x12\\x19\\n\\x15IR_VERSION_2017_10_30\\x10\\x02\\x12\\x0e\\n\\nIR_VERSION\\x10\\x03'\u001b[0m\u001b[1;33m)\u001b[0m\u001b[1;33m\u001b[0m\u001b[0m\n\u001b[0m\u001b[0;32m     24\u001b[0m )\n\u001b[0;32m     25\u001b[0m \u001b[1;33m\u001b[0m\u001b[0m\n",
      "\u001b[1;31mTypeError\u001b[0m: __init__() got an unexpected keyword argument 'serialized_options'"
     ]
    }
   ],
   "source": [
    "import torch\n",
    "import onnx\n",
    "\n",
    "model = onnx.load('novianty2018.onnx')\n",
    "model"
   ]
  },
  {
   "cell_type": "code",
   "execution_count": null,
   "metadata": {},
   "outputs": [],
   "source": [
    "\n",
    "# Check that the IR is well formed\n",
    "onnx.checker.check_model(model)\n",
    "\n",
    "# Print a human readable representation of the graph\n",
    "onnx.helper.printable_graph(model.graph)"
   ]
  },
  {
   "cell_type": "code",
   "execution_count": null,
   "metadata": {},
   "outputs": [],
   "source": []
  }
 ],
 "metadata": {
  "kernelspec": {
   "display_name": "Python 3",
   "language": "python",
   "name": "python3"
  },
  "language_info": {
   "codemirror_mode": {
    "name": "ipython",
    "version": 3
   },
   "file_extension": ".py",
   "mimetype": "text/x-python",
   "name": "python",
   "nbconvert_exporter": "python",
   "pygments_lexer": "ipython3",
   "version": "3.6.6"
  }
 },
 "nbformat": 4,
 "nbformat_minor": 2
}
