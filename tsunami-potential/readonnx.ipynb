{
 "cells": [
  {
   "cell_type": "markdown",
   "metadata": {},
   "source": [
    "Note: ONNX not yet fully working due to protobuf conflict, etc.\n",
    "\n",
    "For now, use `torch.save()` and `torch.load()`\n",
    "\n",
    "But this is interesting:\n",
    "\n",
    "https://blog.waya.ai/deploy-deep-machine-learning-in-production-the-pythonic-way-a17105f1540e"
   ]
  },
  {
   "cell_type": "code",
   "execution_count": null,
   "metadata": {},
   "outputs": [],
   "source": [
    "#conda install -c conda-forge onnx\n",
    "#python -m pip install caffe2"
   ]
  },
  {
   "cell_type": "code",
   "execution_count": 1,
   "metadata": {},
   "outputs": [
    {
     "data": {
      "text/plain": [
       "ir_version: 3\n",
       "producer_name: \"pytorch\"\n",
       "producer_version: \"0.3\"\n",
       "graph {\n",
       "  node {\n",
       "    input: \"1\"\n",
       "    output: \"3\"\n",
       "    op_type: \"Transpose\"\n",
       "    attribute {\n",
       "      name: \"perm\"\n",
       "      ints: 1\n",
       "      ints: 0\n",
       "      type: INTS\n",
       "    }\n",
       "    doc_string: \"C:\\\\ProgramData\\\\Anaconda3\\\\lib\\\\site-packages\\\\torch\\\\nn\\\\functional.py(1026): linear\\nC:\\\\ProgramData\\\\Anaconda3\\\\lib\\\\site-packages\\\\torch\\\\nn\\\\modules\\\\linear.py(55): forward\\nC:\\\\ProgramData\\\\Anaconda3\\\\lib\\\\site-packages\\\\torch\\\\nn\\\\modules\\\\module.py(465): _slow_forward\\nC:\\\\ProgramData\\\\Anaconda3\\\\lib\\\\site-packages\\\\torch\\\\nn\\\\modules\\\\module.py(475): __call__\\nC:\\\\ProgramData\\\\Anaconda3\\\\lib\\\\site-packages\\\\torch\\\\nn\\\\modules\\\\container.py(91): forward\\nC:\\\\ProgramData\\\\Anaconda3\\\\lib\\\\site-packages\\\\torch\\\\nn\\\\modules\\\\module.py(465): _slow_forward\\nC:\\\\ProgramData\\\\Anaconda3\\\\lib\\\\site-packages\\\\torch\\\\nn\\\\modules\\\\module.py(475): __call__\\nC:\\\\ProgramData\\\\Anaconda3\\\\lib\\\\site-packages\\\\torch\\\\jit\\\\__init__.py(109): forward\\nC:\\\\ProgramData\\\\Anaconda3\\\\lib\\\\site-packages\\\\torch\\\\nn\\\\modules\\\\module.py(477): __call__\\nC:\\\\ProgramData\\\\Anaconda3\\\\lib\\\\site-packages\\\\torch\\\\jit\\\\__init__.py(77): get_trace_graph\\nC:\\\\ProgramData\\\\Anaconda3\\\\lib\\\\site-packages\\\\torch\\\\onnx\\\\utils.py(144): _trace_and_get_graph_from_model\\nC:\\\\ProgramData\\\\Anaconda3\\\\lib\\\\site-packages\\\\torch\\\\onnx\\\\utils.py(177): _model_to_graph\\nC:\\\\ProgramData\\\\Anaconda3\\\\lib\\\\site-packages\\\\torch\\\\onnx\\\\utils.py(226): _export\\nC:\\\\ProgramData\\\\Anaconda3\\\\lib\\\\site-packages\\\\torch\\\\onnx\\\\utils.py(94): export\\nC:\\\\ProgramData\\\\Anaconda3\\\\lib\\\\site-packages\\\\torch\\\\onnx\\\\__init__.py(26): export\\n<ipython-input-65-50e8fba00aba>(12): <module>\\nC:\\\\ProgramData\\\\Anaconda3\\\\lib\\\\site-packages\\\\IPython\\\\core\\\\interactiveshell.py(2963): run_code\\nC:\\\\ProgramData\\\\Anaconda3\\\\lib\\\\site-packages\\\\IPython\\\\core\\\\interactiveshell.py(2909): run_ast_nodes\\nC:\\\\ProgramData\\\\Anaconda3\\\\lib\\\\site-packages\\\\IPython\\\\core\\\\interactiveshell.py(2785): _run_cell\\nC:\\\\ProgramData\\\\Anaconda3\\\\lib\\\\site-packages\\\\IPython\\\\core\\\\interactiveshell.py(2662): run_cell\\nC:\\\\ProgramData\\\\Anaconda3\\\\lib\\\\site-packages\\\\ipykernel\\\\zmqshell.py(533): run_cell\\nC:\\\\ProgramData\\\\Anaconda3\\\\lib\\\\site-packages\\\\ipykernel\\\\ipkernel.py(196): do_execute\\nC:\\\\ProgramData\\\\Anaconda3\\\\lib\\\\site-packages\\\\ipykernel\\\\kernelbase.py(399): execute_request\\nC:\\\\ProgramData\\\\Anaconda3\\\\lib\\\\site-packages\\\\ipykernel\\\\kernelbase.py(235): dispatch_shell\\nC:\\\\ProgramData\\\\Anaconda3\\\\lib\\\\site-packages\\\\ipykernel\\\\kernelbase.py(283): dispatcher\\nC:\\\\ProgramData\\\\Anaconda3\\\\lib\\\\site-packages\\\\tornado\\\\stack_context.py(277): null_wrapper\\nC:\\\\ProgramData\\\\Anaconda3\\\\lib\\\\site-packages\\\\zmq\\\\eventloop\\\\zmqstream.py(414): _run_callback\\nC:\\\\ProgramData\\\\Anaconda3\\\\lib\\\\site-packages\\\\zmq\\\\eventloop\\\\zmqstream.py(472): _handle_recv\\nC:\\\\ProgramData\\\\Anaconda3\\\\lib\\\\site-packages\\\\zmq\\\\eventloop\\\\zmqstream.py(440): _handle_events\\nC:\\\\ProgramData\\\\Anaconda3\\\\lib\\\\site-packages\\\\tornado\\\\stack_context.py(277): null_wrapper\\nC:\\\\ProgramData\\\\Anaconda3\\\\lib\\\\site-packages\\\\tornado\\\\ioloop.py(888): start\\nC:\\\\ProgramData\\\\Anaconda3\\\\lib\\\\site-packages\\\\zmq\\\\eventloop\\\\ioloop.py(177): start\\nC:\\\\ProgramData\\\\Anaconda3\\\\lib\\\\site-packages\\\\ipykernel\\\\kernelapp.py(477): start\\nC:\\\\ProgramData\\\\Anaconda3\\\\lib\\\\site-packages\\\\traitlets\\\\config\\\\application.py(658): launch_instance\\nC:\\\\ProgramData\\\\Anaconda3\\\\lib\\\\site-packages\\\\ipykernel_launcher.py(16): <module>\\nC:\\\\ProgramData\\\\Anaconda3\\\\lib\\\\runpy.py(85): _run_code\\nC:\\\\ProgramData\\\\Anaconda3\\\\lib\\\\runpy.py(193): _run_module_as_main\\n\"\n",
       "  }\n",
       "  node {\n",
       "    input: \"Bias, T0, Td, T0\\303\\227Td, Mw\"\n",
       "    input: \"3\"\n",
       "    output: \"4\"\n",
       "    op_type: \"MatMul\"\n",
       "    doc_string: \"C:\\\\ProgramData\\\\Anaconda3\\\\lib\\\\site-packages\\\\torch\\\\nn\\\\functional.py(1026): linear\\nC:\\\\ProgramData\\\\Anaconda3\\\\lib\\\\site-packages\\\\torch\\\\nn\\\\modules\\\\linear.py(55): forward\\nC:\\\\ProgramData\\\\Anaconda3\\\\lib\\\\site-packages\\\\torch\\\\nn\\\\modules\\\\module.py(465): _slow_forward\\nC:\\\\ProgramData\\\\Anaconda3\\\\lib\\\\site-packages\\\\torch\\\\nn\\\\modules\\\\module.py(475): __call__\\nC:\\\\ProgramData\\\\Anaconda3\\\\lib\\\\site-packages\\\\torch\\\\nn\\\\modules\\\\container.py(91): forward\\nC:\\\\ProgramData\\\\Anaconda3\\\\lib\\\\site-packages\\\\torch\\\\nn\\\\modules\\\\module.py(465): _slow_forward\\nC:\\\\ProgramData\\\\Anaconda3\\\\lib\\\\site-packages\\\\torch\\\\nn\\\\modules\\\\module.py(475): __call__\\nC:\\\\ProgramData\\\\Anaconda3\\\\lib\\\\site-packages\\\\torch\\\\jit\\\\__init__.py(109): forward\\nC:\\\\ProgramData\\\\Anaconda3\\\\lib\\\\site-packages\\\\torch\\\\nn\\\\modules\\\\module.py(477): __call__\\nC:\\\\ProgramData\\\\Anaconda3\\\\lib\\\\site-packages\\\\torch\\\\jit\\\\__init__.py(77): get_trace_graph\\nC:\\\\ProgramData\\\\Anaconda3\\\\lib\\\\site-packages\\\\torch\\\\onnx\\\\utils.py(144): _trace_and_get_graph_from_model\\nC:\\\\ProgramData\\\\Anaconda3\\\\lib\\\\site-packages\\\\torch\\\\onnx\\\\utils.py(177): _model_to_graph\\nC:\\\\ProgramData\\\\Anaconda3\\\\lib\\\\site-packages\\\\torch\\\\onnx\\\\utils.py(226): _export\\nC:\\\\ProgramData\\\\Anaconda3\\\\lib\\\\site-packages\\\\torch\\\\onnx\\\\utils.py(94): export\\nC:\\\\ProgramData\\\\Anaconda3\\\\lib\\\\site-packages\\\\torch\\\\onnx\\\\__init__.py(26): export\\n<ipython-input-65-50e8fba00aba>(12): <module>\\nC:\\\\ProgramData\\\\Anaconda3\\\\lib\\\\site-packages\\\\IPython\\\\core\\\\interactiveshell.py(2963): run_code\\nC:\\\\ProgramData\\\\Anaconda3\\\\lib\\\\site-packages\\\\IPython\\\\core\\\\interactiveshell.py(2909): run_ast_nodes\\nC:\\\\ProgramData\\\\Anaconda3\\\\lib\\\\site-packages\\\\IPython\\\\core\\\\interactiveshell.py(2785): _run_cell\\nC:\\\\ProgramData\\\\Anaconda3\\\\lib\\\\site-packages\\\\IPython\\\\core\\\\interactiveshell.py(2662): run_cell\\nC:\\\\ProgramData\\\\Anaconda3\\\\lib\\\\site-packages\\\\ipykernel\\\\zmqshell.py(533): run_cell\\nC:\\\\ProgramData\\\\Anaconda3\\\\lib\\\\site-packages\\\\ipykernel\\\\ipkernel.py(196): do_execute\\nC:\\\\ProgramData\\\\Anaconda3\\\\lib\\\\site-packages\\\\ipykernel\\\\kernelbase.py(399): execute_request\\nC:\\\\ProgramData\\\\Anaconda3\\\\lib\\\\site-packages\\\\ipykernel\\\\kernelbase.py(235): dispatch_shell\\nC:\\\\ProgramData\\\\Anaconda3\\\\lib\\\\site-packages\\\\ipykernel\\\\kernelbase.py(283): dispatcher\\nC:\\\\ProgramData\\\\Anaconda3\\\\lib\\\\site-packages\\\\tornado\\\\stack_context.py(277): null_wrapper\\nC:\\\\ProgramData\\\\Anaconda3\\\\lib\\\\site-packages\\\\zmq\\\\eventloop\\\\zmqstream.py(414): _run_callback\\nC:\\\\ProgramData\\\\Anaconda3\\\\lib\\\\site-packages\\\\zmq\\\\eventloop\\\\zmqstream.py(472): _handle_recv\\nC:\\\\ProgramData\\\\Anaconda3\\\\lib\\\\site-packages\\\\zmq\\\\eventloop\\\\zmqstream.py(440): _handle_events\\nC:\\\\ProgramData\\\\Anaconda3\\\\lib\\\\site-packages\\\\tornado\\\\stack_context.py(277): null_wrapper\\nC:\\\\ProgramData\\\\Anaconda3\\\\lib\\\\site-packages\\\\tornado\\\\ioloop.py(888): start\\nC:\\\\ProgramData\\\\Anaconda3\\\\lib\\\\site-packages\\\\zmq\\\\eventloop\\\\ioloop.py(177): start\\nC:\\\\ProgramData\\\\Anaconda3\\\\lib\\\\site-packages\\\\ipykernel\\\\kernelapp.py(477): start\\nC:\\\\ProgramData\\\\Anaconda3\\\\lib\\\\site-packages\\\\traitlets\\\\config\\\\application.py(658): launch_instance\\nC:\\\\ProgramData\\\\Anaconda3\\\\lib\\\\site-packages\\\\ipykernel_launcher.py(16): <module>\\nC:\\\\ProgramData\\\\Anaconda3\\\\lib\\\\runpy.py(85): _run_code\\nC:\\\\ProgramData\\\\Anaconda3\\\\lib\\\\runpy.py(193): _run_module_as_main\\n\"\n",
       "  }\n",
       "  node {\n",
       "    input: \"4\"\n",
       "    output: \"5\"\n",
       "    op_type: \"Sigmoid\"\n",
       "    doc_string: \"C:\\\\ProgramData\\\\Anaconda3\\\\lib\\\\site-packages\\\\torch\\\\nn\\\\modules\\\\activation.py(242): forward\\nC:\\\\ProgramData\\\\Anaconda3\\\\lib\\\\site-packages\\\\torch\\\\nn\\\\modules\\\\module.py(465): _slow_forward\\nC:\\\\ProgramData\\\\Anaconda3\\\\lib\\\\site-packages\\\\torch\\\\nn\\\\modules\\\\module.py(475): __call__\\nC:\\\\ProgramData\\\\Anaconda3\\\\lib\\\\site-packages\\\\torch\\\\nn\\\\modules\\\\container.py(91): forward\\nC:\\\\ProgramData\\\\Anaconda3\\\\lib\\\\site-packages\\\\torch\\\\nn\\\\modules\\\\module.py(465): _slow_forward\\nC:\\\\ProgramData\\\\Anaconda3\\\\lib\\\\site-packages\\\\torch\\\\nn\\\\modules\\\\module.py(475): __call__\\nC:\\\\ProgramData\\\\Anaconda3\\\\lib\\\\site-packages\\\\torch\\\\jit\\\\__init__.py(109): forward\\nC:\\\\ProgramData\\\\Anaconda3\\\\lib\\\\site-packages\\\\torch\\\\nn\\\\modules\\\\module.py(477): __call__\\nC:\\\\ProgramData\\\\Anaconda3\\\\lib\\\\site-packages\\\\torch\\\\jit\\\\__init__.py(77): get_trace_graph\\nC:\\\\ProgramData\\\\Anaconda3\\\\lib\\\\site-packages\\\\torch\\\\onnx\\\\utils.py(144): _trace_and_get_graph_from_model\\nC:\\\\ProgramData\\\\Anaconda3\\\\lib\\\\site-packages\\\\torch\\\\onnx\\\\utils.py(177): _model_to_graph\\nC:\\\\ProgramData\\\\Anaconda3\\\\lib\\\\site-packages\\\\torch\\\\onnx\\\\utils.py(226): _export\\nC:\\\\ProgramData\\\\Anaconda3\\\\lib\\\\site-packages\\\\torch\\\\onnx\\\\utils.py(94): export\\nC:\\\\ProgramData\\\\Anaconda3\\\\lib\\\\site-packages\\\\torch\\\\onnx\\\\__init__.py(26): export\\n<ipython-input-65-50e8fba00aba>(12): <module>\\nC:\\\\ProgramData\\\\Anaconda3\\\\lib\\\\site-packages\\\\IPython\\\\core\\\\interactiveshell.py(2963): run_code\\nC:\\\\ProgramData\\\\Anaconda3\\\\lib\\\\site-packages\\\\IPython\\\\core\\\\interactiveshell.py(2909): run_ast_nodes\\nC:\\\\ProgramData\\\\Anaconda3\\\\lib\\\\site-packages\\\\IPython\\\\core\\\\interactiveshell.py(2785): _run_cell\\nC:\\\\ProgramData\\\\Anaconda3\\\\lib\\\\site-packages\\\\IPython\\\\core\\\\interactiveshell.py(2662): run_cell\\nC:\\\\ProgramData\\\\Anaconda3\\\\lib\\\\site-packages\\\\ipykernel\\\\zmqshell.py(533): run_cell\\nC:\\\\ProgramData\\\\Anaconda3\\\\lib\\\\site-packages\\\\ipykernel\\\\ipkernel.py(196): do_execute\\nC:\\\\ProgramData\\\\Anaconda3\\\\lib\\\\site-packages\\\\ipykernel\\\\kernelbase.py(399): execute_request\\nC:\\\\ProgramData\\\\Anaconda3\\\\lib\\\\site-packages\\\\ipykernel\\\\kernelbase.py(235): dispatch_shell\\nC:\\\\ProgramData\\\\Anaconda3\\\\lib\\\\site-packages\\\\ipykernel\\\\kernelbase.py(283): dispatcher\\nC:\\\\ProgramData\\\\Anaconda3\\\\lib\\\\site-packages\\\\tornado\\\\stack_context.py(277): null_wrapper\\nC:\\\\ProgramData\\\\Anaconda3\\\\lib\\\\site-packages\\\\zmq\\\\eventloop\\\\zmqstream.py(414): _run_callback\\nC:\\\\ProgramData\\\\Anaconda3\\\\lib\\\\site-packages\\\\zmq\\\\eventloop\\\\zmqstream.py(472): _handle_recv\\nC:\\\\ProgramData\\\\Anaconda3\\\\lib\\\\site-packages\\\\zmq\\\\eventloop\\\\zmqstream.py(440): _handle_events\\nC:\\\\ProgramData\\\\Anaconda3\\\\lib\\\\site-packages\\\\tornado\\\\stack_context.py(277): null_wrapper\\nC:\\\\ProgramData\\\\Anaconda3\\\\lib\\\\site-packages\\\\tornado\\\\ioloop.py(888): start\\nC:\\\\ProgramData\\\\Anaconda3\\\\lib\\\\site-packages\\\\zmq\\\\eventloop\\\\ioloop.py(177): start\\nC:\\\\ProgramData\\\\Anaconda3\\\\lib\\\\site-packages\\\\ipykernel\\\\kernelapp.py(477): start\\nC:\\\\ProgramData\\\\Anaconda3\\\\lib\\\\site-packages\\\\traitlets\\\\config\\\\application.py(658): launch_instance\\nC:\\\\ProgramData\\\\Anaconda3\\\\lib\\\\site-packages\\\\ipykernel_launcher.py(16): <module>\\nC:\\\\ProgramData\\\\Anaconda3\\\\lib\\\\runpy.py(85): _run_code\\nC:\\\\ProgramData\\\\Anaconda3\\\\lib\\\\runpy.py(193): _run_module_as_main\\n\"\n",
       "  }\n",
       "  node {\n",
       "    input: \"2\"\n",
       "    output: \"6\"\n",
       "    op_type: \"Transpose\"\n",
       "    attribute {\n",
       "      name: \"perm\"\n",
       "      ints: 1\n",
       "      ints: 0\n",
       "      type: INTS\n",
       "    }\n",
       "    doc_string: \"C:\\\\ProgramData\\\\Anaconda3\\\\lib\\\\site-packages\\\\torch\\\\nn\\\\functional.py(1026): linear\\nC:\\\\ProgramData\\\\Anaconda3\\\\lib\\\\site-packages\\\\torch\\\\nn\\\\modules\\\\linear.py(55): forward\\nC:\\\\ProgramData\\\\Anaconda3\\\\lib\\\\site-packages\\\\torch\\\\nn\\\\modules\\\\module.py(465): _slow_forward\\nC:\\\\ProgramData\\\\Anaconda3\\\\lib\\\\site-packages\\\\torch\\\\nn\\\\modules\\\\module.py(475): __call__\\nC:\\\\ProgramData\\\\Anaconda3\\\\lib\\\\site-packages\\\\torch\\\\nn\\\\modules\\\\container.py(91): forward\\nC:\\\\ProgramData\\\\Anaconda3\\\\lib\\\\site-packages\\\\torch\\\\nn\\\\modules\\\\module.py(465): _slow_forward\\nC:\\\\ProgramData\\\\Anaconda3\\\\lib\\\\site-packages\\\\torch\\\\nn\\\\modules\\\\module.py(475): __call__\\nC:\\\\ProgramData\\\\Anaconda3\\\\lib\\\\site-packages\\\\torch\\\\jit\\\\__init__.py(109): forward\\nC:\\\\ProgramData\\\\Anaconda3\\\\lib\\\\site-packages\\\\torch\\\\nn\\\\modules\\\\module.py(477): __call__\\nC:\\\\ProgramData\\\\Anaconda3\\\\lib\\\\site-packages\\\\torch\\\\jit\\\\__init__.py(77): get_trace_graph\\nC:\\\\ProgramData\\\\Anaconda3\\\\lib\\\\site-packages\\\\torch\\\\onnx\\\\utils.py(144): _trace_and_get_graph_from_model\\nC:\\\\ProgramData\\\\Anaconda3\\\\lib\\\\site-packages\\\\torch\\\\onnx\\\\utils.py(177): _model_to_graph\\nC:\\\\ProgramData\\\\Anaconda3\\\\lib\\\\site-packages\\\\torch\\\\onnx\\\\utils.py(226): _export\\nC:\\\\ProgramData\\\\Anaconda3\\\\lib\\\\site-packages\\\\torch\\\\onnx\\\\utils.py(94): export\\nC:\\\\ProgramData\\\\Anaconda3\\\\lib\\\\site-packages\\\\torch\\\\onnx\\\\__init__.py(26): export\\n<ipython-input-65-50e8fba00aba>(12): <module>\\nC:\\\\ProgramData\\\\Anaconda3\\\\lib\\\\site-packages\\\\IPython\\\\core\\\\interactiveshell.py(2963): run_code\\nC:\\\\ProgramData\\\\Anaconda3\\\\lib\\\\site-packages\\\\IPython\\\\core\\\\interactiveshell.py(2909): run_ast_nodes\\nC:\\\\ProgramData\\\\Anaconda3\\\\lib\\\\site-packages\\\\IPython\\\\core\\\\interactiveshell.py(2785): _run_cell\\nC:\\\\ProgramData\\\\Anaconda3\\\\lib\\\\site-packages\\\\IPython\\\\core\\\\interactiveshell.py(2662): run_cell\\nC:\\\\ProgramData\\\\Anaconda3\\\\lib\\\\site-packages\\\\ipykernel\\\\zmqshell.py(533): run_cell\\nC:\\\\ProgramData\\\\Anaconda3\\\\lib\\\\site-packages\\\\ipykernel\\\\ipkernel.py(196): do_execute\\nC:\\\\ProgramData\\\\Anaconda3\\\\lib\\\\site-packages\\\\ipykernel\\\\kernelbase.py(399): execute_request\\nC:\\\\ProgramData\\\\Anaconda3\\\\lib\\\\site-packages\\\\ipykernel\\\\kernelbase.py(235): dispatch_shell\\nC:\\\\ProgramData\\\\Anaconda3\\\\lib\\\\site-packages\\\\ipykernel\\\\kernelbase.py(283): dispatcher\\nC:\\\\ProgramData\\\\Anaconda3\\\\lib\\\\site-packages\\\\tornado\\\\stack_context.py(277): null_wrapper\\nC:\\\\ProgramData\\\\Anaconda3\\\\lib\\\\site-packages\\\\zmq\\\\eventloop\\\\zmqstream.py(414): _run_callback\\nC:\\\\ProgramData\\\\Anaconda3\\\\lib\\\\site-packages\\\\zmq\\\\eventloop\\\\zmqstream.py(472): _handle_recv\\nC:\\\\ProgramData\\\\Anaconda3\\\\lib\\\\site-packages\\\\zmq\\\\eventloop\\\\zmqstream.py(440): _handle_events\\nC:\\\\ProgramData\\\\Anaconda3\\\\lib\\\\site-packages\\\\tornado\\\\stack_context.py(277): null_wrapper\\nC:\\\\ProgramData\\\\Anaconda3\\\\lib\\\\site-packages\\\\tornado\\\\ioloop.py(888): start\\nC:\\\\ProgramData\\\\Anaconda3\\\\lib\\\\site-packages\\\\zmq\\\\eventloop\\\\ioloop.py(177): start\\nC:\\\\ProgramData\\\\Anaconda3\\\\lib\\\\site-packages\\\\ipykernel\\\\kernelapp.py(477): start\\nC:\\\\ProgramData\\\\Anaconda3\\\\lib\\\\site-packages\\\\traitlets\\\\config\\\\application.py(658): launch_instance\\nC:\\\\ProgramData\\\\Anaconda3\\\\lib\\\\site-packages\\\\ipykernel_launcher.py(16): <module>\\nC:\\\\ProgramData\\\\Anaconda3\\\\lib\\\\runpy.py(85): _run_code\\nC:\\\\ProgramData\\\\Anaconda3\\\\lib\\\\runpy.py(193): _run_module_as_main\\n\"\n",
       "  }\n",
       "  node {\n",
       "    input: \"5\"\n",
       "    input: \"6\"\n",
       "    output: \"7\"\n",
       "    op_type: \"MatMul\"\n",
       "    doc_string: \"C:\\\\ProgramData\\\\Anaconda3\\\\lib\\\\site-packages\\\\torch\\\\nn\\\\functional.py(1026): linear\\nC:\\\\ProgramData\\\\Anaconda3\\\\lib\\\\site-packages\\\\torch\\\\nn\\\\modules\\\\linear.py(55): forward\\nC:\\\\ProgramData\\\\Anaconda3\\\\lib\\\\site-packages\\\\torch\\\\nn\\\\modules\\\\module.py(465): _slow_forward\\nC:\\\\ProgramData\\\\Anaconda3\\\\lib\\\\site-packages\\\\torch\\\\nn\\\\modules\\\\module.py(475): __call__\\nC:\\\\ProgramData\\\\Anaconda3\\\\lib\\\\site-packages\\\\torch\\\\nn\\\\modules\\\\container.py(91): forward\\nC:\\\\ProgramData\\\\Anaconda3\\\\lib\\\\site-packages\\\\torch\\\\nn\\\\modules\\\\module.py(465): _slow_forward\\nC:\\\\ProgramData\\\\Anaconda3\\\\lib\\\\site-packages\\\\torch\\\\nn\\\\modules\\\\module.py(475): __call__\\nC:\\\\ProgramData\\\\Anaconda3\\\\lib\\\\site-packages\\\\torch\\\\jit\\\\__init__.py(109): forward\\nC:\\\\ProgramData\\\\Anaconda3\\\\lib\\\\site-packages\\\\torch\\\\nn\\\\modules\\\\module.py(477): __call__\\nC:\\\\ProgramData\\\\Anaconda3\\\\lib\\\\site-packages\\\\torch\\\\jit\\\\__init__.py(77): get_trace_graph\\nC:\\\\ProgramData\\\\Anaconda3\\\\lib\\\\site-packages\\\\torch\\\\onnx\\\\utils.py(144): _trace_and_get_graph_from_model\\nC:\\\\ProgramData\\\\Anaconda3\\\\lib\\\\site-packages\\\\torch\\\\onnx\\\\utils.py(177): _model_to_graph\\nC:\\\\ProgramData\\\\Anaconda3\\\\lib\\\\site-packages\\\\torch\\\\onnx\\\\utils.py(226): _export\\nC:\\\\ProgramData\\\\Anaconda3\\\\lib\\\\site-packages\\\\torch\\\\onnx\\\\utils.py(94): export\\nC:\\\\ProgramData\\\\Anaconda3\\\\lib\\\\site-packages\\\\torch\\\\onnx\\\\__init__.py(26): export\\n<ipython-input-65-50e8fba00aba>(12): <module>\\nC:\\\\ProgramData\\\\Anaconda3\\\\lib\\\\site-packages\\\\IPython\\\\core\\\\interactiveshell.py(2963): run_code\\nC:\\\\ProgramData\\\\Anaconda3\\\\lib\\\\site-packages\\\\IPython\\\\core\\\\interactiveshell.py(2909): run_ast_nodes\\nC:\\\\ProgramData\\\\Anaconda3\\\\lib\\\\site-packages\\\\IPython\\\\core\\\\interactiveshell.py(2785): _run_cell\\nC:\\\\ProgramData\\\\Anaconda3\\\\lib\\\\site-packages\\\\IPython\\\\core\\\\interactiveshell.py(2662): run_cell\\nC:\\\\ProgramData\\\\Anaconda3\\\\lib\\\\site-packages\\\\ipykernel\\\\zmqshell.py(533): run_cell\\nC:\\\\ProgramData\\\\Anaconda3\\\\lib\\\\site-packages\\\\ipykernel\\\\ipkernel.py(196): do_execute\\nC:\\\\ProgramData\\\\Anaconda3\\\\lib\\\\site-packages\\\\ipykernel\\\\kernelbase.py(399): execute_request\\nC:\\\\ProgramData\\\\Anaconda3\\\\lib\\\\site-packages\\\\ipykernel\\\\kernelbase.py(235): dispatch_shell\\nC:\\\\ProgramData\\\\Anaconda3\\\\lib\\\\site-packages\\\\ipykernel\\\\kernelbase.py(283): dispatcher\\nC:\\\\ProgramData\\\\Anaconda3\\\\lib\\\\site-packages\\\\tornado\\\\stack_context.py(277): null_wrapper\\nC:\\\\ProgramData\\\\Anaconda3\\\\lib\\\\site-packages\\\\zmq\\\\eventloop\\\\zmqstream.py(414): _run_callback\\nC:\\\\ProgramData\\\\Anaconda3\\\\lib\\\\site-packages\\\\zmq\\\\eventloop\\\\zmqstream.py(472): _handle_recv\\nC:\\\\ProgramData\\\\Anaconda3\\\\lib\\\\site-packages\\\\zmq\\\\eventloop\\\\zmqstream.py(440): _handle_events\\nC:\\\\ProgramData\\\\Anaconda3\\\\lib\\\\site-packages\\\\tornado\\\\stack_context.py(277): null_wrapper\\nC:\\\\ProgramData\\\\Anaconda3\\\\lib\\\\site-packages\\\\tornado\\\\ioloop.py(888): start\\nC:\\\\ProgramData\\\\Anaconda3\\\\lib\\\\site-packages\\\\zmq\\\\eventloop\\\\ioloop.py(177): start\\nC:\\\\ProgramData\\\\Anaconda3\\\\lib\\\\site-packages\\\\ipykernel\\\\kernelapp.py(477): start\\nC:\\\\ProgramData\\\\Anaconda3\\\\lib\\\\site-packages\\\\traitlets\\\\config\\\\application.py(658): launch_instance\\nC:\\\\ProgramData\\\\Anaconda3\\\\lib\\\\site-packages\\\\ipykernel_launcher.py(16): <module>\\nC:\\\\ProgramData\\\\Anaconda3\\\\lib\\\\runpy.py(85): _run_code\\nC:\\\\ProgramData\\\\Anaconda3\\\\lib\\\\runpy.py(193): _run_module_as_main\\n\"\n",
       "  }\n",
       "  node {\n",
       "    input: \"7\"\n",
       "    output: \"y0=Tsunami-Yes, y1=Tsunami-No\"\n",
       "    op_type: \"Sigmoid\"\n",
       "    doc_string: \"C:\\\\ProgramData\\\\Anaconda3\\\\lib\\\\site-packages\\\\torch\\\\nn\\\\modules\\\\activation.py(242): forward\\nC:\\\\ProgramData\\\\Anaconda3\\\\lib\\\\site-packages\\\\torch\\\\nn\\\\modules\\\\module.py(465): _slow_forward\\nC:\\\\ProgramData\\\\Anaconda3\\\\lib\\\\site-packages\\\\torch\\\\nn\\\\modules\\\\module.py(475): __call__\\nC:\\\\ProgramData\\\\Anaconda3\\\\lib\\\\site-packages\\\\torch\\\\nn\\\\modules\\\\container.py(91): forward\\nC:\\\\ProgramData\\\\Anaconda3\\\\lib\\\\site-packages\\\\torch\\\\nn\\\\modules\\\\module.py(465): _slow_forward\\nC:\\\\ProgramData\\\\Anaconda3\\\\lib\\\\site-packages\\\\torch\\\\nn\\\\modules\\\\module.py(475): __call__\\nC:\\\\ProgramData\\\\Anaconda3\\\\lib\\\\site-packages\\\\torch\\\\jit\\\\__init__.py(109): forward\\nC:\\\\ProgramData\\\\Anaconda3\\\\lib\\\\site-packages\\\\torch\\\\nn\\\\modules\\\\module.py(477): __call__\\nC:\\\\ProgramData\\\\Anaconda3\\\\lib\\\\site-packages\\\\torch\\\\jit\\\\__init__.py(77): get_trace_graph\\nC:\\\\ProgramData\\\\Anaconda3\\\\lib\\\\site-packages\\\\torch\\\\onnx\\\\utils.py(144): _trace_and_get_graph_from_model\\nC:\\\\ProgramData\\\\Anaconda3\\\\lib\\\\site-packages\\\\torch\\\\onnx\\\\utils.py(177): _model_to_graph\\nC:\\\\ProgramData\\\\Anaconda3\\\\lib\\\\site-packages\\\\torch\\\\onnx\\\\utils.py(226): _export\\nC:\\\\ProgramData\\\\Anaconda3\\\\lib\\\\site-packages\\\\torch\\\\onnx\\\\utils.py(94): export\\nC:\\\\ProgramData\\\\Anaconda3\\\\lib\\\\site-packages\\\\torch\\\\onnx\\\\__init__.py(26): export\\n<ipython-input-65-50e8fba00aba>(12): <module>\\nC:\\\\ProgramData\\\\Anaconda3\\\\lib\\\\site-packages\\\\IPython\\\\core\\\\interactiveshell.py(2963): run_code\\nC:\\\\ProgramData\\\\Anaconda3\\\\lib\\\\site-packages\\\\IPython\\\\core\\\\interactiveshell.py(2909): run_ast_nodes\\nC:\\\\ProgramData\\\\Anaconda3\\\\lib\\\\site-packages\\\\IPython\\\\core\\\\interactiveshell.py(2785): _run_cell\\nC:\\\\ProgramData\\\\Anaconda3\\\\lib\\\\site-packages\\\\IPython\\\\core\\\\interactiveshell.py(2662): run_cell\\nC:\\\\ProgramData\\\\Anaconda3\\\\lib\\\\site-packages\\\\ipykernel\\\\zmqshell.py(533): run_cell\\nC:\\\\ProgramData\\\\Anaconda3\\\\lib\\\\site-packages\\\\ipykernel\\\\ipkernel.py(196): do_execute\\nC:\\\\ProgramData\\\\Anaconda3\\\\lib\\\\site-packages\\\\ipykernel\\\\kernelbase.py(399): execute_request\\nC:\\\\ProgramData\\\\Anaconda3\\\\lib\\\\site-packages\\\\ipykernel\\\\kernelbase.py(235): dispatch_shell\\nC:\\\\ProgramData\\\\Anaconda3\\\\lib\\\\site-packages\\\\ipykernel\\\\kernelbase.py(283): dispatcher\\nC:\\\\ProgramData\\\\Anaconda3\\\\lib\\\\site-packages\\\\tornado\\\\stack_context.py(277): null_wrapper\\nC:\\\\ProgramData\\\\Anaconda3\\\\lib\\\\site-packages\\\\zmq\\\\eventloop\\\\zmqstream.py(414): _run_callback\\nC:\\\\ProgramData\\\\Anaconda3\\\\lib\\\\site-packages\\\\zmq\\\\eventloop\\\\zmqstream.py(472): _handle_recv\\nC:\\\\ProgramData\\\\Anaconda3\\\\lib\\\\site-packages\\\\zmq\\\\eventloop\\\\zmqstream.py(440): _handle_events\\nC:\\\\ProgramData\\\\Anaconda3\\\\lib\\\\site-packages\\\\tornado\\\\stack_context.py(277): null_wrapper\\nC:\\\\ProgramData\\\\Anaconda3\\\\lib\\\\site-packages\\\\tornado\\\\ioloop.py(888): start\\nC:\\\\ProgramData\\\\Anaconda3\\\\lib\\\\site-packages\\\\zmq\\\\eventloop\\\\ioloop.py(177): start\\nC:\\\\ProgramData\\\\Anaconda3\\\\lib\\\\site-packages\\\\ipykernel\\\\kernelapp.py(477): start\\nC:\\\\ProgramData\\\\Anaconda3\\\\lib\\\\site-packages\\\\traitlets\\\\config\\\\application.py(658): launch_instance\\nC:\\\\ProgramData\\\\Anaconda3\\\\lib\\\\site-packages\\\\ipykernel_launcher.py(16): <module>\\nC:\\\\ProgramData\\\\Anaconda3\\\\lib\\\\runpy.py(85): _run_code\\nC:\\\\ProgramData\\\\Anaconda3\\\\lib\\\\runpy.py(193): _run_module_as_main\\n\"\n",
       "  }\n",
       "  name: \"torch-jit-export\"\n",
       "  initializer {\n",
       "    dims: 2\n",
       "    dims: 5\n",
       "    data_type: FLOAT\n",
       "    name: \"1\"\n",
       "    raw_data: \"\\000\\000\\200?\\000\\000\\000\\000\\000\\000\\000\\000\\000\\000\\000\\000\\000\\000\\000\\000\\350\\264\\004Cb\\366\\215\\302\\344\\324\\002\\303\\276Y\\247\\301\\246\\213\\312\\302\"\n",
       "  }\n",
       "  initializer {\n",
       "    dims: 2\n",
       "    dims: 2\n",
       "    data_type: FLOAT\n",
       "    name: \"2\"\n",
       "    raw_data: \";f\\356?;f\\356\\277K_\\206\\300K_\\206@\"\n",
       "  }\n",
       "  input {\n",
       "    name: \"Bias, T0, Td, T0\\303\\227Td, Mw\"\n",
       "    type {\n",
       "      tensor_type {\n",
       "        elem_type: FLOAT\n",
       "        shape {\n",
       "          dim {\n",
       "            dim_value: 5\n",
       "          }\n",
       "        }\n",
       "      }\n",
       "    }\n",
       "  }\n",
       "  input {\n",
       "    name: \"1\"\n",
       "    type {\n",
       "      tensor_type {\n",
       "        elem_type: FLOAT\n",
       "        shape {\n",
       "          dim {\n",
       "            dim_value: 2\n",
       "          }\n",
       "          dim {\n",
       "            dim_value: 5\n",
       "          }\n",
       "        }\n",
       "      }\n",
       "    }\n",
       "  }\n",
       "  input {\n",
       "    name: \"2\"\n",
       "    type {\n",
       "      tensor_type {\n",
       "        elem_type: FLOAT\n",
       "        shape {\n",
       "          dim {\n",
       "            dim_value: 2\n",
       "          }\n",
       "          dim {\n",
       "            dim_value: 2\n",
       "          }\n",
       "        }\n",
       "      }\n",
       "    }\n",
       "  }\n",
       "  output {\n",
       "    name: \"y0=Tsunami-Yes, y1=Tsunami-No\"\n",
       "    type {\n",
       "      tensor_type {\n",
       "        elem_type: FLOAT\n",
       "        shape {\n",
       "          dim {\n",
       "            dim_value: 2\n",
       "          }\n",
       "        }\n",
       "      }\n",
       "    }\n",
       "  }\n",
       "}\n",
       "opset_import {\n",
       "  version: 6\n",
       "}"
      ]
     },
     "execution_count": 1,
     "metadata": {},
     "output_type": "execute_result"
    }
   ],
   "source": [
    "import torch\n",
    "import onnx\n",
    "\n",
    "model = onnx.load('novianty2018.onnx')\n",
    "model"
   ]
  },
  {
   "cell_type": "code",
   "execution_count": 2,
   "metadata": {},
   "outputs": [
    {
     "data": {
      "text/plain": [
       "'graph torch-jit-export (\\n  %Bias, T0, Td, T0×Td, Mw[FLOAT, 5]\\n) initializers (\\n  %1[FLOAT, 2x5]\\n  %2[FLOAT, 2x2]\\n) {\\n  %3 = Transpose[perm = [1, 0]](%1)\\n  %4 = MatMul(%Bias, T0, Td, T0×Td, Mw, %3)\\n  %5 = Sigmoid(%4)\\n  %6 = Transpose[perm = [1, 0]](%2)\\n  %7 = MatMul(%5, %6)\\n  %y0=Tsunami-Yes, y1=Tsunami-No = Sigmoid(%7)\\n  return %y0=Tsunami-Yes, y1=Tsunami-No\\n}'"
      ]
     },
     "execution_count": 2,
     "metadata": {},
     "output_type": "execute_result"
    }
   ],
   "source": [
    "\n",
    "# Check that the IR is well formed\n",
    "onnx.checker.check_model(model)\n",
    "\n",
    "# Print a human readable representation of the graph\n",
    "onnx.helper.printable_graph(model.graph)"
   ]
  },
  {
   "cell_type": "code",
   "execution_count": 3,
   "metadata": {},
   "outputs": [
    {
     "ename": "ModuleNotFoundError",
     "evalue": "No module named 'caffe2'",
     "output_type": "error",
     "traceback": [
      "\u001b[1;31m---------------------------------------------------------------------------\u001b[0m",
      "\u001b[1;31mModuleNotFoundError\u001b[0m                       Traceback (most recent call last)",
      "\u001b[1;32m<ipython-input-3-fd34d2139545>\u001b[0m in \u001b[0;36m<module>\u001b[1;34m()\u001b[0m\n\u001b[1;32m----> 1\u001b[1;33m \u001b[1;32mimport\u001b[0m \u001b[0mcaffe2\u001b[0m\u001b[1;33m.\u001b[0m\u001b[0mpython\u001b[0m\u001b[1;33m.\u001b[0m\u001b[0monnx\u001b[0m\u001b[1;33m.\u001b[0m\u001b[0mbackend\u001b[0m \u001b[1;32mas\u001b[0m \u001b[0mbackend\u001b[0m\u001b[1;33m\u001b[0m\u001b[0m\n\u001b[0m\u001b[0;32m      2\u001b[0m \u001b[1;32mimport\u001b[0m \u001b[0mnumpy\u001b[0m \u001b[1;32mas\u001b[0m \u001b[0mnp\u001b[0m\u001b[1;33m\u001b[0m\u001b[0m\n\u001b[0;32m      3\u001b[0m \u001b[1;33m\u001b[0m\u001b[0m\n\u001b[0;32m      4\u001b[0m \u001b[0mrep\u001b[0m \u001b[1;33m=\u001b[0m \u001b[0mbackend\u001b[0m\u001b[1;33m.\u001b[0m\u001b[0mprepare\u001b[0m\u001b[1;33m(\u001b[0m\u001b[0mmodel\u001b[0m\u001b[1;33m,\u001b[0m \u001b[0mdevice\u001b[0m\u001b[1;33m=\u001b[0m\u001b[1;34m\"CUDA:0\"\u001b[0m\u001b[1;33m)\u001b[0m \u001b[1;31m# or \"CPU\"\u001b[0m\u001b[1;33m\u001b[0m\u001b[0m\n\u001b[0;32m      5\u001b[0m \u001b[1;31m# For the Caffe2 backend:\u001b[0m\u001b[1;33m\u001b[0m\u001b[1;33m\u001b[0m\u001b[0m\n",
      "\u001b[1;31mModuleNotFoundError\u001b[0m: No module named 'caffe2'"
     ]
    }
   ],
   "source": [
    "import caffe2.python.onnx.backend as backend\n",
    "import numpy as np\n",
    "\n",
    "rep = backend.prepare(model, device=\"CUDA:0\") # or \"CPU\"\n",
    "# For the Caffe2 backend:\n",
    "#     rep.predict_net is the Caffe2 protobuf for the network\n",
    "#     rep.workspace is the Caffe2 workspace for the network\n",
    "#       (see the class caffe2.python.onnx.backend.Workspace)\n",
    "outputs = rep.run(np.random.randn(10, 3, 224, 224).astype(np.float32))\n",
    "# To run networks with more than one input, pass a tuple\n",
    "# rather than a single numpy ndarray.\n",
    "print(outputs[0])\n"
   ]
  },
  {
   "cell_type": "code",
   "execution_count": null,
   "metadata": {},
   "outputs": [],
   "source": []
  }
 ],
 "metadata": {
  "kernelspec": {
   "display_name": "Python 3",
   "language": "python",
   "name": "python3"
  },
  "language_info": {
   "codemirror_mode": {
    "name": "ipython",
    "version": 3
   },
   "file_extension": ".py",
   "mimetype": "text/x-python",
   "name": "python",
   "nbconvert_exporter": "python",
   "pygments_lexer": "ipython3",
   "version": "3.6.6"
  }
 },
 "nbformat": 4,
 "nbformat_minor": 2
}
